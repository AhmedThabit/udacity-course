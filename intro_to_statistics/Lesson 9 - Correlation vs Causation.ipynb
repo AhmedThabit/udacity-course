{
 "cells": [
  {
   "cell_type": "markdown",
   "metadata": {
    "toc": "true"
   },
   "source": [
    "# Table of Contents\n",
    " <p><div class=\"lev1\"><a href=\"#Correlation-and-Causation\"><span class=\"toc-item-num\">1&nbsp;&nbsp;</span>Correlation and Causation</a></div><div class=\"lev1\"><a href=\"#Mortality\"><span class=\"toc-item-num\">2&nbsp;&nbsp;</span>Mortality</a></div><div class=\"lev1\"><a href=\"#Deciding\"><span class=\"toc-item-num\">3&nbsp;&nbsp;</span>Deciding</a></div><div class=\"lev1\"><a href=\"#Assuming-Causation\"><span class=\"toc-item-num\">4&nbsp;&nbsp;</span>Assuming Causation</a></div><div class=\"lev1\"><a href=\"#Considering-Health\"><span class=\"toc-item-num\">5&nbsp;&nbsp;</span>Considering Health</a></div><div class=\"lev1\"><a href=\"#Correlation\"><span class=\"toc-item-num\">6&nbsp;&nbsp;</span>Correlation</a></div><div class=\"lev1\"><a href=\"#Causation-Structure\"><span class=\"toc-item-num\">7&nbsp;&nbsp;</span>Causation Structure</a></div><div class=\"lev1\"><a href=\"#Fire-Correlation\"><span class=\"toc-item-num\">8&nbsp;&nbsp;</span>Fire Correlation</a></div>"
   ]
  },
  {
   "cell_type": "markdown",
   "metadata": {},
   "source": [
    "# Correlation and Causation"
   ]
  },
  {
   "cell_type": "markdown",
   "metadata": {},
   "source": [
    "- Awhile back I've told you about the Simpson's paradox and it was surprising how easy it was to draw the false conclusion from data.\n",
    "- Today I will give you a deep insight of the common mistakes that's being made in interpreting statistical data by confusing correlation with causation. I'll show you example where data is correlated and why it's tempted to confuse correlation with causation. So both of those are words that start with a C and very frequently I read newspaper articles that deeply confuse both the relationship of correlation and causation--so let's dive in."
   ]
  },
  {
   "cell_type": "markdown",
   "metadata": {},
   "source": [
    "<img  src=\"images/Screen Shot 2016-05-08 at 9.00.41 AM.png\"/>\n",
    "\n",
    "*Screenshot taken from [Udacity](https://classroom.udacity.com/courses/st101/lessons/48698742/concepts/487273800923)*\n",
    "\n",
    "<!--TEASER_END-->"
   ]
  },
  {
   "cell_type": "markdown",
   "metadata": {},
   "source": [
    "# Mortality"
   ]
  },
  {
   "cell_type": "markdown",
   "metadata": {},
   "source": [
    "- Suppose you are sick, and you wake up with a strong pain in the middle of the night. You so sick that you fear you might die, but you're not sick enough not to apply the lessons of my Statistics 101 class to make a rational decision whether to go to the hospital. And in doing so, you consult the titer.\n",
    "- You find that in your town, over the last year, 40 people were hospitalized of which 4 passed away. Whereas the vast part of the population of your town never went to the hospital, and of those, 20 passed away at home. So compute for me the percentages of the people who died in the hospital and the percentage of the people who died at home."
   ]
  },
  {
   "cell_type": "markdown",
   "metadata": {},
   "source": [
    "<img  src=\"images/Screen Shot 2016-05-08 at 9.03.44 AM.png\"/>\n",
    "\n",
    "*Screenshot taken from [Udacity](https://classroom.udacity.com/courses/st101/lessons/48698742/concepts/486928270923)*\n",
    "\n",
    "<!--TEASER_END-->"
   ]
  },
  {
   "cell_type": "markdown",
   "metadata": {},
   "source": [
    "# Deciding"
   ]
  },
  {
   "cell_type": "markdown",
   "metadata": {},
   "source": [
    "- Now I offer these as a fictitious example – these are relatively large numbers. But what’s important to notice is the chances of dying in a hospital are 40 times as large than dying at home. \n",
    "- That means whether you die or not is correlated to whether or not you are in a hospital. So the chances of dying in a hospital are indeed 40 times larger than at home. \n",
    "- So let me ask the critical question. Shall you now stay at home, given that you are a really smart statistics student, can you resist the temptation to go to the hospital because indeed it might increase your chances of passing away."
   ]
  },
  {
   "cell_type": "markdown",
   "metadata": {},
   "source": [
    "**Answer**\n",
    "- Because based on the correlation data, it seems that being in a hospital makes you 40 times as likely to die than being at home but that doesn’t mean by staying at home, you reduce your chances of dying. So this is a statement of correlation."
   ]
  },
  {
   "cell_type": "markdown",
   "metadata": {},
   "source": [
    "<img  src=\"images/Screen Shot 2016-05-09 at 10.44.47 PM.png\"/>\n",
    "\n",
    "*Screenshot taken from [Udacity](https://classroom.udacity.com/courses/st101/lessons/48698742/concepts/487214950923)*\n",
    "\n",
    "<!--TEASER_END-->"
   ]
  },
  {
   "cell_type": "markdown",
   "metadata": {},
   "source": [
    "# Assuming Causation"
   ]
  },
  {
   "cell_type": "markdown",
   "metadata": {},
   "source": [
    "- Being in a hospital, that fact alone, increases your probability of dying by a factor 40 is a causal statement. It says the hospital causes you to die. Not just it coincides with the fact that you die and very frequently people in the public get this wrong. \n",
    "- People observe there is a correlation but they suggest the correlation is causal in attempting to make you understand the statistic as a call of action."
   ]
  },
  {
   "cell_type": "markdown",
   "metadata": {},
   "source": [
    "# Considering Health"
   ]
  },
  {
   "cell_type": "markdown",
   "metadata": {},
   "source": [
    "- Let's say of the 40 people in the hospital, 36 were actually sick and passed away, and some were healthy, 4 of them, and they all survived.\n",
    "- Let's further assume, for the people at home, 40 were indeed sick, and 50 of them passed away, whereas the remaining 7,960, they were healthy, also inquired a total death of 20, perhaps because of accidents.\n",
    "- These statistics are consistent with the statistics I gave you before. We just added another variable, whether the person's sick or healthy."
   ]
  },
  {
   "cell_type": "markdown",
   "metadata": {},
   "source": [
    "**Answer**\n",
    "- Now, if we look at this, we realize that you are likely sick. \n",
    "- If you fall into the sick category, your chances of dying at home are 50% and it's just about 11% in the hospital. So, you should really go to the hospital very quickly"
   ]
  },
  {
   "cell_type": "markdown",
   "metadata": {},
   "source": [
    "<img  src=\"images/Screen Shot 2016-05-09 at 10.52.11 PM.png\"/>\n",
    "\n",
    "*Screenshot taken from [Udacity](https://classroom.udacity.com/courses/st101/lessons/48698742/concepts/486977520923)*\n",
    "\n",
    "<!--TEASER_END-->"
   ]
  },
  {
   "cell_type": "markdown",
   "metadata": {},
   "source": [
    "# Correlation"
   ]
  },
  {
   "cell_type": "markdown",
   "metadata": {},
   "source": [
    "- Let's observe in more detail why the hospital example gives us such a wrong conclusion. \n",
    "- We study two variables--in-hospital and dying or passing away. We rightfully observe that these two things are correlated. If we were to do a scatter plot where we have two categories-- whether or not we're in the hospital and whether or not a person passed away-- you find there's an increased occurrence of data over here and of data over here relative to the other to data points over here. That means the data correlates.\n",
    "- What does correlation mean? In any plot, data is correlated if knowledge about one variables tells us something about the other."
   ]
  },
  {
   "cell_type": "markdown",
   "metadata": {},
   "source": [
    "<img  src=\"images/Screen Shot 2016-05-09 at 10.55.40 PM.png\"/>\n",
    "\n",
    "*Screenshot taken from [Udacity](https://classroom.udacity.com/courses/st101/lessons/48698742/concepts/486808380923)*\n",
    "\n",
    "<!--TEASER_END-->"
   ]
  },
  {
   "cell_type": "markdown",
   "metadata": {},
   "source": [
    "- For this plot below, the data is not correlated. Because no matter where I am in A, B seems to be the same."
   ]
  },
  {
   "cell_type": "markdown",
   "metadata": {},
   "source": [
    "<img  src=\"images/Screen Shot 2016-05-09 at 10.56.57 PM.png\"/>\n",
    "\n",
    "*Screenshot taken from [Udacity](https://classroom.udacity.com/courses/st101/lessons/48698742/concepts/486808380923)*\n",
    "\n",
    "<!--TEASER_END-->"
   ]
  },
  {
   "cell_type": "markdown",
   "metadata": {},
   "source": [
    "- And now the data sits, a square in which data is uniformly arranged, correlated, yes or no?\n",
    "\n",
    "**Answer**\n",
    "- The answer is negative. No matter where I am in A, the range for B is the same, as is the mean estimate."
   ]
  },
  {
   "cell_type": "markdown",
   "metadata": {},
   "source": [
    "<img  src=\"images/Screen Shot 2016-05-09 at 10.59.15 PM.png\"/>\n",
    "\n",
    "*Screenshot taken from [Udacity](https://classroom.udacity.com/courses/st101/lessons/48698742/concepts/486928280923)*\n",
    "\n",
    "<!--TEASER_END-->"
   ]
  },
  {
   "cell_type": "markdown",
   "metadata": {},
   "source": [
    "- Another data set--there's boomerang over here. Correlated?\n",
    "\n",
    "**Answer**\n",
    "- The answer is yes--clearly for different values of A, I get different values of B. Not a linear correlation yet still a correlation."
   ]
  },
  {
   "cell_type": "markdown",
   "metadata": {},
   "source": [
    "<img  src=\"images/Screen Shot 2016-05-09 at 11.01.32 PM.png\"/>\n",
    "\n",
    "*Screenshot taken from [Udacity](https://classroom.udacity.com/courses/st101/lessons/48698742/concepts/487491580923)*\n",
    "\n",
    "<!--TEASER_END-->"
   ]
  },
  {
   "cell_type": "markdown",
   "metadata": {},
   "source": [
    "# Causation Structure"
   ]
  },
  {
   "cell_type": "markdown",
   "metadata": {},
   "source": [
    "- So clearly in our example, whether or not you're in a hospital correlated with whether or not you died, but the truth is, the example omitted and important variable, the sickness, the disease itself.\n",
    "- And in fact, the sickness did cause you to die, and also affected your decision of whether you go to a hospital or not.\n",
    "- So if you draw acts of causation, you find sickness causes death, and sickness causes you to go to the hospital, and if anything at all, once you knew you were sick, being in the hospital negatively correlated with you dying; that is, being in a hospital made it less likely for you to pass away given that you were sick.\n",
    "- In statistics, we call this a **confounding variable**. \n",
    "- It's very tempting to just omit this from your data, and if you do, you might find correlations; in this case, a positive correlation between the hospital and death, that have nothing to do with the way things are being caused, and as a result, those correlations don't relate at all to what you should do."
   ]
  },
  {
   "cell_type": "markdown",
   "metadata": {},
   "source": [
    "<img  src=\"images/Screen Shot 2016-05-09 at 11.04.51 PM.png\"/>\n",
    "\n",
    "*Screenshot taken from [Udacity](https://classroom.udacity.com/courses/st101/lessons/48698742/concepts/487430170923)*\n",
    "\n",
    "<!--TEASER_END-->"
   ]
  },
  {
   "cell_type": "markdown",
   "metadata": {},
   "source": [
    "# Fire Correlation"
   ]
  },
  {
   "cell_type": "markdown",
   "metadata": {},
   "source": [
    "- Suppose you observed a number of different fires and you graph the number of firefighters versus the size of the fire.\n",
    "- And for the sake of the argument, let's assume we studied four fires with 10, 40, 200, and 70 firefighters involved and the sizes of the fires were given as follows: 100, 400, 2000, and 700 in terms of the surface area that the fire occupied.\n",
    "- Putting this into a diagram, you get pretty much the following.\n",
    "- Put the number of fighters. In fact, you've already learned this looks very linear. So, let me ask a question--is the number of the firefighters correlated with the size of the fire?\n",
    "\n",
    "**Answer**\n",
    "- And obviously it is because there's a strong linear correlation."
   ]
  },
  {
   "cell_type": "markdown",
   "metadata": {},
   "source": [
    "<img  src=\"images/Screen Shot 2016-05-09 at 11.07.44 PM.png\"/>\n",
    "\n",
    "*Screenshot taken from [Udacity](https://classroom.udacity.com/courses/st101/lessons/48698742/concepts/486808390923)*\n",
    "\n",
    "<!--TEASER_END-->"
   ]
  },
  {
   "cell_type": "markdown",
   "metadata": {},
   "source": [
    "- Now the real question I'm bringing up to is, \"Do firefighters cause fire?\"\n",
    "- or more extremely, \"If you're going to get rid of our firefighters, will you get rid of all the fire?\" Obviously, this seems to be in the data."
   ]
  },
  {
   "cell_type": "markdown",
   "metadata": {},
   "source": [
    "**Answer**\n",
    "- And the answer is no. This is a case of what we call reverse causation.\n",
    "- You can argue that the size of the fire causes the number of firefighters that is being destroyed, and that's because the bigger the fire the more firefighters the fire department will send.\n",
    "- Now our graph, which shows the correlation between these two variables is oblivious to the direction of this arc. You could conclude size causes this and fire than the firefighters. You could conclude the number of firefighters causes this size.\n",
    "- In both cases you could use exact the same data. But when I put it this way, it's pretty obvious that the right answer should be the size of the fire causes the number of firefighters to grow up and it's not from the data itself.\n",
    "- It's because we know there's something about fire and firefighters. It's impossible to deduce from this data that it causes a relationship. It could be just coincidental or that cause a relationship could go either way."
   ]
  },
  {
   "cell_type": "markdown",
   "metadata": {},
   "source": [
    "<img  src=\"images/Screen Shot 2016-05-09 at 11.11.06 PM.png\"/>\n",
    "\n",
    "*Screenshot taken from [Udacity](https://classroom.udacity.com/courses/st101/lessons/48698742/concepts/486808400923)*\n",
    "\n",
    "<!--TEASER_END-->"
   ]
  },
  {
   "cell_type": "code",
   "execution_count": null,
   "metadata": {
    "collapsed": true
   },
   "outputs": [],
   "source": []
  }
 ],
 "metadata": {
  "kernelspec": {
   "display_name": "Python 2",
   "language": "python",
   "name": "python2"
  },
  "language_info": {
   "codemirror_mode": {
    "name": "ipython",
    "version": 2
   },
   "file_extension": ".py",
   "mimetype": "text/x-python",
   "name": "python",
   "nbconvert_exporter": "python",
   "pygments_lexer": "ipython2",
   "version": "2.7.11"
  },
  "toc": {
   "toc_cell": true,
   "toc_number_sections": true,
   "toc_threshold": "8",
   "toc_window_display": true
  }
 },
 "nbformat": 4,
 "nbformat_minor": 0
}
