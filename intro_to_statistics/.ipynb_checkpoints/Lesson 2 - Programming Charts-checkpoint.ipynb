{
 "cells": [
  {
   "cell_type": "markdown",
   "metadata": {
    "toc": "true"
   },
   "source": [
    "# Table of Contents\n",
    " <p><div class=\"lev1\"><a href=\"#Plotting-graphs-with-Python\"><span class=\"toc-item-num\">1&nbsp;&nbsp;</span>Plotting graphs with Python</a></div><div class=\"lev1\"><a href=\"#Using-the-wrapper\"><span class=\"toc-item-num\">2&nbsp;&nbsp;</span>Using the wrapper</a></div><div class=\"lev1\"><a href=\"#Quiz\"><span class=\"toc-item-num\">3&nbsp;&nbsp;</span>Quiz</a></div><div class=\"lev2\"><a href=\"#Plot-Height\"><span class=\"toc-item-num\">3.1&nbsp;&nbsp;</span>Plot Height</a></div>"
   ]
  },
  {
   "cell_type": "markdown",
   "metadata": {},
   "source": [
    "# Plotting graphs with Python"
   ]
  },
  {
   "cell_type": "markdown",
   "metadata": {},
   "source": [
    "- https://www.udacity.com/wiki/plotting-graphs-with-python"
   ]
  },
  {
   "cell_type": "code",
   "execution_count": 1,
   "metadata": {
    "collapsed": false
   },
   "outputs": [
    {
     "name": "stdout",
     "output_type": "stream",
     "text": [
      "Writing plotting.py\n"
     ]
    }
   ],
   "source": [
    "%%writefile plotting.py\n",
    "\n",
    "from matplotlib import pyplot\n",
    "from numpy import arange\n",
    "import bisect\n",
    "\n",
    "def scatterplot(x,y):\n",
    "    pyplot.plot(x,y,'b.')\n",
    "    pyplot.xlim(min(x)-1,max(x)+1)\n",
    "    pyplot.ylim(min(y)-1,max(y)+1)\n",
    "    pyplot.show()\n",
    "\n",
    "def barplot(labels,data):\n",
    "    pos=arange(len(data))\n",
    "    pyplot.xticks(pos+0.4,labels)\n",
    "    pyplot.bar(pos,data)\n",
    "    pyplot.show()\n",
    "\n",
    "def histplot(data,bins=None,nbins=5):\n",
    "    minx,maxx=min(data),max(data)\n",
    "    space=(maxx-minx)/float(nbins)\n",
    "    if not bins: bins=arange(minx,maxx,space)\n",
    "    binned=[bisect.bisect(bins,x) for x in data]\n",
    "    l=['%.1f'%x for x in list(bins)+[maxx]] if space<1 else [str(int(x)) for x in list(bins)+[maxx]]\n",
    "    displab=[x+'-'+y for x,y in zip(l[:-1],l[1:])]\n",
    "    barplot(displab,[binned.count(x+1) for x in range(len(bins))])\n",
    "\n",
    "def barchart(x,y,numbins=5):\n",
    "    datarange=max(x)-min(x)\n",
    "    bin_width=float(datarange)/numbins\n",
    "    pos=min(x)\n",
    "    bins=[0 for i in range(numbins+1)]\n",
    "\n",
    "    for i in range(numbins):\n",
    "        bins[i]=pos\n",
    "        pos+=bin_width\n",
    "    bins[numbins]=max(x)+1\n",
    "    binsum=[0 for i in range(numbins)]\n",
    "    bincount=[0 for i in range(numbins)]\n",
    "    binaverage=[0 for i in range(numbins)]\n",
    "\n",
    "    for i in range(numbins):\n",
    "        for j in range(len(x)):\n",
    "            if x[j]>=bins[i] and x[j]<bins[i+1]:\n",
    "                bincount[i]+=1\n",
    "                binsum[i]+=y[j]\n",
    "\n",
    "    for i in range(numbins):\n",
    "        binaverage[i]=float(binsum[i])/bincount[i]\n",
    "    barplot(range(numbins),binaverage)\n",
    "\n",
    "def piechart(labels,data):\n",
    "    fig=pyplot.figure(figsize=(7,7))\n",
    "    pyplot.pie(data,labels=labels,autopct='%1.2f%%')\n",
    "    pyplot.show()"
   ]
  },
  {
   "cell_type": "markdown",
   "metadata": {},
   "source": [
    "# Using the wrapper"
   ]
  },
  {
   "cell_type": "code",
   "execution_count": 3,
   "metadata": {
    "collapsed": false
   },
   "outputs": [
    {
     "data": {
      "image/png": "[encoded data removed]",
      "text/plain": [
       "<matplotlib.figure.Figure at 0x10c2a1e10>"
      ]
     },
     "metadata": {},
     "output_type": "display_data"
    }
   ],
   "source": [
    "%matplotlib inline\n",
    "from plotting import *\n",
    "\n",
    "barchart([1, 2, 3, 4, 5], [1, 2, 3, 4, 5], 5)"
   ]
  },
  {
   "cell_type": "markdown",
   "metadata": {},
   "source": [
    "# Quiz "
   ]
  },
  {
   "cell_type": "markdown",
   "metadata": {},
   "source": [
    "## Plot Height"
   ]
  },
  {
   "cell_type": "code",
   "execution_count": 4,
   "metadata": {
    "collapsed": false
   },
   "outputs": [
    {
     "data": {
      "image/png": "[encoded data removed]",
      "text/plain": [
       "<matplotlib.figure.Figure at 0x113d6dc10>"
      ]
     },
     "metadata": {},
     "output_type": "display_data"
    }
   ],
   "source": [
    "#Plot a histogram of Height using the histplot function\n",
    "from plotting import *\n",
    "\n",
    "Height=[65.78, 71.52, 69.4, 68.22, 67.79, 68.7, 69.8, 70.01, 67.9, 66.78,\n",
    " 66.49, 67.62, 68.3, 67.12, 68.28, 71.09, 66.46, 68.65, 71.23, 67.13, 67.83, \n",
    "68.88, 63.48, 68.42, 67.63, 67.21, 70.84, 67.49, 66.53, 65.44, 69.52, 65.81, \n",
    "67.82, 70.6, 71.8, 69.21, 66.8, 67.66, 67.81, 64.05, 68.57, 65.18, 69.66, 67.97, \n",
    "65.98, 68.67, 66.88, 67.7, 69.82, 69.09]\n",
    "\n",
    "Weight=[112.99, 136.49, 153.03, 142.34, 144.3, 123.3, 141.49, 136.46, \n",
    "112.37, 120.67, 127.45, 114.14, 125.61, 122.46, 116.09, 140.0, 129.5, 142.97, \n",
    "137.9, 124.04, 141.28, 143.54, 97.9, 129.5, 141.85, 129.72, 142.42, 131.55, \n",
    "108.33, 113.89, 103.3, 120.75, 125.79, 136.22, 140.1, 128.75, 141.8, 121.23, \n",
    "131.35, 106.71, 124.36, 124.86, 139.67, 137.37, 106.45, 128.76, 145.68, 116.82, \n",
    "143.62, 134.93]\n",
    "\n",
    "#Insert your code on the next line\n",
    "histplot(Height)"
   ]
  },
  {
   "cell_type": "code",
   "execution_count": null,
   "metadata": {
    "collapsed": true
   },
   "outputs": [],
   "source": []
  }
 ],
 "metadata": {
  "kernelspec": {
   "display_name": "Python 2",
   "language": "python",
   "name": "python2"
  },
  "language_info": {
   "codemirror_mode": {
    "name": "ipython",
    "version": 2
   },
   "file_extension": ".py",
   "mimetype": "text/x-python",
   "name": "python",
   "nbconvert_exporter": "python",
   "pygments_lexer": "ipython2",
   "version": "2.7.11"
  },
  "toc": {
   "toc_cell": true,
   "toc_number_sections": true,
   "toc_threshold": "8",
   "toc_window_display": true
  }
 },
 "nbformat": 4,
 "nbformat_minor": 0
}
